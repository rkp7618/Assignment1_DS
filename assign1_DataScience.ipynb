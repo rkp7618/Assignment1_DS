{
 "cells": [
  {
   "cell_type": "code",
   "execution_count": 3,
   "id": "aa960abb-a917-4085-bd21-927f37e853ea",
   "metadata": {},
   "outputs": [
    {
     "name": "stdout",
     "output_type": "stream",
     "text": [
      "55 3628800\n"
     ]
    }
   ],
   "source": [
    "#using for loop\n",
    "Sum=0\n",
    "product=1\n",
    "for i in range(1,11):\n",
    "    Sum+=i\n",
    "    product*=i\n",
    "print(Sum,product)"
   ]
  },
  {
   "cell_type": "code",
   "execution_count": 5,
   "id": "147a885c-b4a1-4cb3-8ade-0627ea087e3c",
   "metadata": {},
   "outputs": [
    {
     "name": "stdout",
     "output_type": "stream",
     "text": [
      "55 3628800\n"
     ]
    }
   ],
   "source": [
    "#using while loop\n",
    "Sum,product=0,1\n",
    "i=1\n",
    "while i<11:\n",
    "    Sum+=i\n",
    "    product*=i\n",
    "    i+=1\n",
    "print(Sum,product)"
   ]
  },
  {
   "cell_type": "code",
   "execution_count": 17,
   "id": "3cadf368-2256-4eba-ad12-424daabad3c0",
   "metadata": {},
   "outputs": [
    {
     "name": "stdin",
     "output_type": "stream",
     "text": [
      "Enter your unit:  310\n"
     ]
    },
    {
     "name": "stdout",
     "output_type": "stream",
     "text": [
      "2250\n"
     ]
    }
   ],
   "source": [
    "unit = int(input(\"Enter your unit: \"))\n",
    "if unit < 100:\n",
    "    bill = unit * 4.50\n",
    "elif unit <= 200:\n",
    "    bill = 450 + ((unit - 100) * 6)\n",
    "elif unit <= 300:\n",
    "    bill = 450 + 600 + ((unit - 200) * 10)\n",
    "else:\n",
    "    bill = 450 + 600 + 1000+ ((unit - 300) * 20)\n",
    "print(bill)"
   ]
  },
  {
   "cell_type": "code",
   "execution_count": 12,
   "id": "ac3d6524-bc43-409c-8fe9-f49990c9bbbf",
   "metadata": {},
   "outputs": [
    {
     "name": "stdout",
     "output_type": "stream",
     "text": [
      "[8, 64, 125, 216, 512, 1000, 1728, 2744, 3375, 4096, 5832, 8000, 10648, 13824, 15625, 17576, 21952, 27000, 32768, 39304, 42875, 46656, 54872, 64000, 74088, 85184, 91125, 97336, 110592, 125000, 140608, 157464, 166375, 175616, 195112, 216000, 238328, 262144, 274625, 287496, 314432, 343000, 373248, 405224, 421875, 438976, 474552, 512000, 551368, 592704, 614125, 636056, 681472, 729000, 778688, 830584, 857375, 884736, 941192, 1000000] "
     ]
    }
   ],
   "source": [
    "# question 4\n",
    "l1=[]\n",
    "for i in range(1,101):\n",
    "    n=i**3\n",
    "    if n%4==0 or n%5==0:\n",
    "        l1.append(n)\n",
    "print(l1,end=\" \")"
   ]
  },
  {
   "cell_type": "code",
   "execution_count": 13,
   "id": "9150749e-5313-4fcb-9e1f-0dba6bf9f92c",
   "metadata": {},
   "outputs": [
    {
     "name": "stdout",
     "output_type": "stream",
     "text": [
      "[8, 64, 125, 216, 512, 1000, 1728, 2744, 3375, 4096, 5832, 8000, 10648, 13824, 15625, 17576, 21952, 27000, 32768, 39304, 42875, 46656, 54872, 64000, 74088, 85184, 91125, 97336, 110592, 125000, 140608, 157464, 166375, 175616, 195112, 216000, 238328, 262144, 274625, 287496, 314432, 343000, 373248, 405224, 421875, 438976, 474552, 512000, 551368, 592704, 614125, 636056, 681472, 729000, 778688, 830584, 857375, 884736, 941192, 1000000]\n"
     ]
    }
   ],
   "source": [
    "# question 4 using while loop\n",
    "i=1\n",
    "l1=[]\n",
    "while i <101:\n",
    "    n=i**3\n",
    "    if n%4==0 or n%5==0:\n",
    "        l1.append(n)\n",
    "    i+=1\n",
    "print(l1)\n",
    "\n",
    "\n"
   ]
  },
  {
   "cell_type": "code",
   "execution_count": 16,
   "id": "2f812fdc-a838-4bae-844c-8750216eec0c",
   "metadata": {},
   "outputs": [
    {
     "data": {
      "text/plain": [
       "12"
      ]
     },
     "execution_count": 16,
     "metadata": {},
     "output_type": "execute_result"
    }
   ],
   "source": [
    "# question 5 \n",
    "l1=['a','e','i','o','u']\n",
    "count=0\n",
    "str1= \"I want to become a data scientist\"\n",
    "for i in  str1.lower():\n",
    "    if i in l1:\n",
    "        count+=1\n",
    "count"
   ]
  },
  {
   "cell_type": "code",
   "execution_count": null,
   "id": "2fc6056d-d707-477f-9b49-1d86b7458d2b",
   "metadata": {},
   "outputs": [],
   "source": []
  }
 ],
 "metadata": {
  "kernelspec": {
   "display_name": "Python 3 (ipykernel)",
   "language": "python",
   "name": "python3"
  },
  "language_info": {
   "codemirror_mode": {
    "name": "ipython",
    "version": 3
   },
   "file_extension": ".py",
   "mimetype": "text/x-python",
   "name": "python",
   "nbconvert_exporter": "python",
   "pygments_lexer": "ipython3",
   "version": "3.10.8"
  }
 },
 "nbformat": 4,
 "nbformat_minor": 5
}
